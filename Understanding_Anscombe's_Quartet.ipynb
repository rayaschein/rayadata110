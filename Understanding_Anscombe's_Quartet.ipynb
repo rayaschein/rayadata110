{
  "nbformat": 4,
  "nbformat_minor": 0,
  "metadata": {
    "colab": {
      "provenance": [],
      "authorship_tag": "ABX9TyP94ZwY6mheLSpcAaGoBdIx",
      "include_colab_link": true
    },
    "kernelspec": {
      "name": "python3",
      "display_name": "Python 3"
    },
    "language_info": {
      "name": "python"
    }
  },
  "cells": [
    {
      "cell_type": "markdown",
      "metadata": {
        "id": "view-in-github",
        "colab_type": "text"
      },
      "source": [
        "<a href=\"https://colab.research.google.com/github/Reben80/Data110-32213/blob/main/Understanding_Anscombe's_Quartet.ipynb\" target=\"_parent\"><img src=\"https://colab.research.google.com/assets/colab-badge.svg\" alt=\"Open In Colab\"/></a>"
      ]
    },
    {
      "cell_type": "markdown",
      "source": [
        "---\n",
        "\n",
        "## Understanding Anscombe's Quartet\n",
        "\n",
        "**Anscombe's Quartet** consists of multiple datasets, each comprising (x, y) pairs. These datasets are unique in that they share several statistical properties:\n",
        "\n",
        "- **Mean**: The average value of the datasets is consistent across both x and y components.\n",
        "- **Standard Deviation**: Measures of how data points are dispersed in the dataset remain constant.\n",
        "- **Regression Line**: Linear regressions drawn from these datasets tend to follow the same line.\n",
        "\n",
        "However, despite these similarities in basic statistical metrics, each dataset in the quartet tells a different story when plotted graphically. They exhibit distinct patterns and relationships between the x and y variables.\n",
        "\n",
        "### The Significance of Anscombe's Quartet\n",
        "\n",
        "The primary lesson of **Anscombe's Quartet** is twofold:\n",
        "\n",
        "1. **Visual Analysis**: It highlights the critical importance of visually inspecting your data. Graphical representations can uncover underlying patterns, trends, and outliers that summary statistics might miss.\n",
        "\n",
        "2. **Beyond Statistics**: While statistical measures are invaluable, relying solely on them can be deceptive. The quartet demonstrates that datasets with identical statistical properties can indeed have drastically different distributions and relationships.\n",
        "\n",
        "Anscombe's Quartet is a powerful reminder that in data analysis, the true essence and story of the data often lie beyond mere numbers and summary statistics.\n",
        "\n",
        "---\n"
      ],
      "metadata": {
        "id": "seWkr_JpTWtU"
      }
    },
    {
      "cell_type": "code",
      "execution_count": 15,
      "metadata": {
        "id": "jjc-Xm-SkmF0"
      },
      "outputs": [],
      "source": [
        "import matplotlib.pyplot as plt\n",
        "import pandas as pd\n",
        "import numpy as np\n",
        "\n",
        "x = [10, 8, 13, 9, 11, 14, 6, 4, 12, 7, 5]\n",
        "y1 = [8.04, 6.95, 7.58, 8.81, 8.33, 9.96, 7.24, 4.26, 10.84, 4.82, 5.68]\n",
        "y2 = [9.14, 8.14, 8.74, 8.77, 9.26, 8.10, 6.13, 3.10, 9.13, 7.26, 4.74]\n",
        "y3 = [7.46, 6.77, 12.74, 7.11, 7.81, 8.84, 6.08, 5.39, 8.15, 6.42, 5.73]\n",
        "x4 = [8, 8, 8, 8, 8, 8, 8, 19, 8, 8, 8]\n",
        "y4 = [6.58, 5.76, 7.71, 8.84, 8.47, 7.04, 5.25, 12.50, 5.56, 7.91, 6.89]"
      ]
    },
    {
      "cell_type": "markdown",
      "source": [
        "## Task1:\n",
        " Run the code below and check if all these graph look different."
      ],
      "metadata": {
        "id": "EZcljvYfT9CW"
      }
    },
    {
      "cell_type": "code",
      "source": [
        "\n",
        "\n",
        "ys=[y1,y2,y3,y4]\n",
        "titles=['Plot 1','Plot 2','Plot 3','Plot 4']\n",
        "colors=['r','g','b','y']\n",
        "fig, axs =plt.subplots(2,2,figsize=(10,10))\n",
        "\n",
        "for i, ax in enumerate(axs.flat):\n",
        "  ax.scatter(x,ys[i],color=colors[i])\n",
        "  ax.set_title(titles[i])"
      ],
      "metadata": {
        "id": "n3GmFP_xQSb_"
      },
      "execution_count": null,
      "outputs": []
    },
    {
      "cell_type": "markdown",
      "source": [
        "## Task2:\n",
        "Run the code below and find the statisical information about the dataset y1"
      ],
      "metadata": {
        "id": "Hg03nQL2UGi0"
      }
    },
    {
      "cell_type": "code",
      "source": [
        "# Convert the list y1 into a Pandas Series object. This allows us to use powerful data analysis tools provided by Pandas on the dataset.\n",
        "y1_series = pd.Series(y1)\n",
        "\n",
        "# Generate descriptive statistics of the y1 series. This includes count, mean, standard deviation, minimum, 25th percentile (Q1), median (50th percentile), 75th percentile (Q3), and maximum.\n",
        "# It provides a quick overview of the central tendency, dispersion, and shape of the dataset's distribution.\n",
        "y1_description = y1_series.describe()\n",
        "\n",
        "# Print the descriptive statistics to the console. This output can be used to quickly understand the statistical characteristics of the data in y1.\n",
        "print(y1_description)\n"
      ],
      "metadata": {
        "id": "VJ491qznRbmQ"
      },
      "execution_count": null,
      "outputs": []
    },
    {
      "cell_type": "markdown",
      "source": [
        "## Task 3:  \n",
        "Replicate Analysis for Additional Datasets You've successfully completed the descriptive analysis for the dataset `y1`. Now, apply the same process to analyze the additional datasets: `y2`, `y3`, and `y4`.\n",
        "\n",
        "For each dataset (`y2`, `y3`, and `y4`). and Print the result using `print` function."
      ],
      "metadata": {
        "id": "PnclUbXTUUEf"
      }
    },
    {
      "cell_type": "code",
      "source": [
        "## your code for Task 3 should be here"
      ],
      "metadata": {
        "id": "2WIRqj_aSNHg"
      },
      "execution_count": null,
      "outputs": []
    },
    {
      "cell_type": "markdown",
      "source": [
        "---\n",
        "\n",
        "## Task 4: Reflection and Comparative Analysis\n",
        "\n",
        "Having computed the descriptive statistics for each of the datasets (`y1`, `y2`, `y3`, and `y4`), it's now time to reflect on your findings and conduct a comparative analysis.\n",
        "\n",
        "**Objectives:**\n",
        "\n",
        "- Understand the implications of the statistical summaries.\n",
        "- Identify any underlying patterns or anomalies across the datasets.\n",
        "- Relate your observations to the principles highlighted by Anscombe's quartet.\n",
        "\n",
        "**Instructions:**\n",
        "\n",
        "1. **Summarize Your Observations:**\n",
        "    - Begin by summarizing the descriptive statistics for each dataset. Highlight any notable similarities or differences in terms of mean, standard deviation, quartiles, and range.\n",
        "\n",
        "3. **Analytical Reflection:**\n",
        "    - Discuss how the datasets compare to each other. Are there any datasets that appear statistically similar but differ significantly when visualized?\n",
        "    - Reflect on how Anscombe's quartet demonstrates the importance of both statistical analysis and data visualization in understanding data.\n",
        "\n",
        "4. **Concluding Thoughts:**\n",
        "    - Conclude by discussing the significance of descriptive statistics and data visualization in data analysis.\n",
        "    - Mention any insights or lessons learned from this exercise about the potential pitfalls of relying solely on numerical summaries to\n"
      ],
      "metadata": {
        "id": "_qWXqFzBWfgD"
      }
    },
    {
      "cell_type": "markdown",
      "source": [
        "---------\n"
      ],
      "metadata": {
        "id": "3sOLuaQaXKOh"
      }
    },
    {
      "cell_type": "markdown",
      "source": [
        "### Task 4 Submission\n",
        "\n",
        "Please provide your comprehensive answer for Task 4 here. Ensure your response is well-structured and utilizes Markdown formatting for clarity and organization."
      ],
      "metadata": {
        "id": "g4WDSiHRWx46"
      }
    }
  ]
}